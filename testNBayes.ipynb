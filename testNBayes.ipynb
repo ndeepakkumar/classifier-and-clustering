{
 "cells": [
  {
   "cell_type": "code",
   "execution_count": 64,
   "id": "87709390-c51d-4554-a45c-3c5b7832b507",
   "metadata": {},
   "outputs": [],
   "source": [
    "import pandas as pd\n",
    "import numpy as np\n",
    "import ast\n",
    "from sklearn.metrics import confusion_matrix, accuracy_score, precision_score, recall_score, ConfusionMatrixDisplay\n",
    "import matplotlib.pyplot as plt"
   ]
  },
  {
   "cell_type": "code",
   "execution_count": 65,
   "id": "e2ce8252-57e2-440b-95e7-a9eccbf5fd89",
   "metadata": {},
   "outputs": [],
   "source": [
    "# Load test dataset\n",
    "test_data = pd.read_csv('test.csv')\n",
    "train_valid_data = pd.read_csv('train_valid.csv')"
   ]
  },
  {
   "cell_type": "code",
   "execution_count": 66,
   "id": "db64740c-b75c-45fc-a414-00346d11f9b4",
   "metadata": {},
   "outputs": [],
   "source": [
    "# Discretize numeric features (same as in training)\n",
    "def discretize_features(data, num_bins=3):\n",
    "    for col in data.columns[:-1]:  # Exclude target column\n",
    "        data[col] = pd.cut(data[col], bins=num_bins, labels=range(num_bins))\n",
    "    return data"
   ]
  },
  {
   "cell_type": "code",
   "execution_count": 67,
   "id": "9e6cdd4c-24b7-4266-bffc-efef2e9ec4b5",
   "metadata": {},
   "outputs": [],
   "source": [
    "test_data = discretize_features(test_data)\n",
    "train_valid_data = discretize_features(train_valid_data)"
   ]
  },
  {
   "cell_type": "code",
   "execution_count": 68,
   "id": "e8b99dc0-2aa9-47f6-8a12-c10053ed62ef",
   "metadata": {},
   "outputs": [],
   "source": [
    "with open('probabilities.txt', 'r') as f:\n",
    "    lines = f.readlines()\n",
    "    priors = ast.literal_eval(lines[1])\n",
    "    likelihoods = ast.literal_eval(lines[3])"
   ]
  },
  {
   "cell_type": "code",
   "execution_count": 69,
   "id": "fa26c1a6-f1dd-4d69-950f-a1fee38f16e8",
   "metadata": {},
   "outputs": [],
   "source": [
    "# print(priors)\n",
    "# print(likelihoods)"
   ]
  },
  {
   "cell_type": "code",
   "execution_count": 70,
   "id": "98cc2492-c041-4631-aa75-f1b5c72fbcb5",
   "metadata": {},
   "outputs": [],
   "source": [
    "# Make predictions using Naive Bayes\n",
    "def predict(row):\n",
    "    class_probs = {}\n",
    "    for cls in priors:\n",
    "        class_probs[cls] = priors[cls]\n",
    "        for feature in row.index[:-1]:  # Exclude target column\n",
    "            class_probs[cls] *= likelihoods[feature][row[feature]][cls]\n",
    "    return max(class_probs, key=class_probs.get)"
   ]
  },
  {
   "cell_type": "code",
   "execution_count": 71,
   "id": "06240c6c-c5b2-4fe8-ba18-000bbe11c7eb",
   "metadata": {},
   "outputs": [
    {
     "name": "stdout",
     "output_type": "stream",
     "text": [
      "Misclassified samples:\n",
      "   Predicted Label           target\n",
      "15  Iris-virginica  Iris-versicolor\n"
     ]
    },
    {
     "name": "stderr",
     "output_type": "stream",
     "text": [
      "C:\\Users\\Hemanth\\AppData\\Local\\Temp\\ipykernel_9480\\2257461102.py:10: SettingWithCopyWarning: \n",
      "A value is trying to be set on a copy of a slice from a DataFrame.\n",
      "Try using .loc[row_indexer,col_indexer] = value instead\n",
      "\n",
      "See the caveats in the documentation: https://pandas.pydata.org/pandas-docs/stable/user_guide/indexing.html#returning-a-view-versus-a-copy\n",
      "  misclassified_samples['Predicted Label'] = [predicted_y[i] for i in misclassified_indices]\n"
     ]
    }
   ],
   "source": [
    "test_X = test_data.iloc[:, :-1]  # Features\n",
    "test_y = test_data.iloc[:, -1]   # Actual labels\n",
    "\n",
    "predicted_y = test_data.apply(predict, axis=1)\n",
    "# predicted_y = naive_bayes_predict(test_X)\n",
    "\n",
    "# Find misclassified samples\n",
    "misclassified_indices = [i for i, (true, pred) in enumerate(zip(test_y, predicted_y)) if true != pred]\n",
    "misclassified_samples = test_data.iloc[misclassified_indices]\n",
    "misclassified_samples['Predicted Label'] = [predicted_y[i] for i in misclassified_indices]\n",
    "\n",
    "# Output the misclassified samples\n",
    "print(\"Misclassified samples:\")\n",
    "print(misclassified_samples[['Predicted Label', test_y.name]])"
   ]
  },
  {
   "cell_type": "code",
   "execution_count": 72,
   "id": "230d7fab-8205-4d66-92ef-511a842601dc",
   "metadata": {},
   "outputs": [],
   "source": [
    "# Apply prediction\n",
    "test_data['predicted'] = test_data.apply(predict, axis=1)\n",
    "train_valid_data['predicted'] = train_valid_data.apply(predict, axis=1)"
   ]
  },
  {
   "cell_type": "code",
   "execution_count": 73,
   "id": "a9cea506-7e26-428f-9865-3361efbcc77e",
   "metadata": {},
   "outputs": [
    {
     "name": "stdout",
     "output_type": "stream",
     "text": [
      "Validation Accuracy: 0.7142857142857143\n",
      "Validation Precision: 0.8333333333333334\n",
      "Validation Recall: 0.7777777777777777\n",
      "Validation Confusion Matrix:\n",
      "[[2 0 0]\n",
      " [0 1 2]\n",
      " [0 0 2]]\n"
     ]
    }
   ],
   "source": [
    " \n",
    "y_valid_true = train_valid_data['target']\n",
    "y_valid_pred = train_valid_data['predicted']\n",
    "\n",
    "accuracy = accuracy_score(y_valid_true, y_valid_pred)\n",
    "precision = precision_score(y_valid_true, y_valid_pred, average='macro')\n",
    "recall = recall_score(y_valid_true, y_valid_pred, average='macro')\n",
    "conf_matrix = confusion_matrix(y_valid_true, y_valid_pred)\n",
    "\n",
    "print(f\"Validation Accuracy: {accuracy}\")\n",
    "print(f\"Validation Precision: {precision}\")\n",
    "print(f\"Validation Recall: {recall}\")\n",
    "print(f\"Validation Confusion Matrix:\\n{conf_matrix}\")"
   ]
  },
  {
   "cell_type": "code",
   "execution_count": 74,
   "id": "a544dd4d-bec9-4a97-a9d4-6c56211c5294",
   "metadata": {},
   "outputs": [
    {
     "data": {
      "image/png": "[encoded data removed]",
      "text/plain": [
       "<Figure size 640x480 with 2 Axes>"
      ]
     },
     "metadata": {},
     "output_type": "display_data"
    }
   ],
   "source": [
    "cm_display = ConfusionMatrixDisplay(confusion_matrix = conf_matrix)\n",
    "cm_display.plot()\n",
    "plt.title(\"Validation Confusion Matrix \" )\n",
    "plt.show()"
   ]
  },
  {
   "cell_type": "code",
   "execution_count": 75,
   "id": "b013aa83-c270-4744-b22a-a2716ef8eb48",
   "metadata": {},
   "outputs": [
    {
     "name": "stdout",
     "output_type": "stream",
     "text": [
      "Test Accuracy: 0.9736842105263158\n",
      "Test Precision: 0.9743589743589745\n",
      "Test Recall: 0.9696969696969697\n",
      "Test Confusion Matrix:\n",
      "[[15  0  0]\n",
      " [ 0 10  1]\n",
      " [ 0  0 12]]\n"
     ]
    }
   ],
   "source": [
    "# Calculate performance metrics on test test data\n",
    "\n",
    "accuracy = accuracy_score(y_true, y_pred)\n",
    "precision = precision_score(y_true, y_pred, average='macro')\n",
    "recall = recall_score(y_true, y_pred, average='macro')\n",
    "conf_matrix = confusion_matrix(y_true, y_pred)\n",
    "\n",
    "print(f\"Test Accuracy: {accuracy}\")\n",
    "print(f\"Test Precision: {precision}\")\n",
    "print(f\"Test Recall: {recall}\")\n",
    "print(f\"Test Confusion Matrix:\\n{conf_matrix}\")"
   ]
  },
  {
   "cell_type": "code",
   "execution_count": 76,
   "id": "c4abb2b8-0cd5-49ea-956b-ba32e511b53b",
   "metadata": {},
   "outputs": [
    {
     "data": {
      "image/png": "[encoded data removed]",
      "text/plain": [
       "<Figure size 640x480 with 2 Axes>"
      ]
     },
     "metadata": {},
     "output_type": "display_data"
    }
   ],
   "source": [
    "cm_display = ConfusionMatrixDisplay(confusion_matrix = conf_matrix)\n",
    "cm_display.plot()\n",
    "plt.title(\"Test Confusion Matrix \" )\n",
    "plt.show()"
   ]
  },
  {
   "cell_type": "code",
   "execution_count": null,
   "id": "e23bede4-a396-4a0b-88bd-00c00cb293bd",
   "metadata": {},
   "outputs": [],
   "source": []
  }
 ],
 "metadata": {
  "kernelspec": {
   "display_name": "Python 3 (ipykernel)",
   "language": "python",
   "name": "python3"
  },
  "language_info": {
   "codemirror_mode": {
    "name": "ipython",
    "version": 3
   },
   "file_extension": ".py",
   "mimetype": "text/x-python",
   "name": "python",
   "nbconvert_exporter": "python",
   "pygments_lexer": "ipython3",
   "version": "3.12.0"
  }
 },
 "nbformat": 4,
 "nbformat_minor": 5
}
