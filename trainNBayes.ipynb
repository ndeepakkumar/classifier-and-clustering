{
 "cells": [
  {
   "cell_type": "code",
   "execution_count": 12,
   "id": "d444b679-bb16-4541-8f6b-4b3e1e6dff9c",
   "metadata": {},
   "outputs": [],
   "source": [
    "import pandas as pd\n",
    "import numpy as np"
   ]
  },
  {
   "cell_type": "code",
   "execution_count": 13,
   "id": "3f5a0303-9b83-4961-9f67-efd8c8c270a1",
   "metadata": {},
   "outputs": [],
   "source": [
    "# Load train dataset\n",
    "train_data = pd.read_csv('train.csv')"
   ]
  },
  {
   "cell_type": "code",
   "execution_count": 14,
   "id": "c24d422e-be83-4f61-be3e-dee54dbd2d84",
   "metadata": {},
   "outputs": [],
   "source": [
    "def discretize_features(data, num_bins=3):\n",
    "    for col in data.columns[:-1]:  # Exclude target column\n",
    "        data[col] = pd.cut(data[col], bins=num_bins, labels=range(num_bins))\n",
    "    return data"
   ]
  },
  {
   "cell_type": "code",
   "execution_count": 15,
   "id": "20077354-404e-438e-acba-c42b9262ddd0",
   "metadata": {},
   "outputs": [],
   "source": [
    "train_data = discretize_features(train_data)\n",
    "# print(train_data)"
   ]
  },
  {
   "cell_type": "code",
   "execution_count": 16,
   "id": "1e71e7e6-8959-497a-9873-066a2caa3fce",
   "metadata": {},
   "outputs": [
    {
     "name": "stdout",
     "output_type": "stream",
     "text": [
      "target\n",
      "Iris-virginica     36\n",
      "Iris-versicolor    36\n",
      "Iris-setosa        33\n",
      "Name: count, dtype: int64\n",
      "105\n",
      "{'Iris-virginica': 0.3425925925925926, 'Iris-versicolor': 0.3425925925925926, 'Iris-setosa': 0.3148148148148148}\n"
     ]
    }
   ],
   "source": [
    "class_counts = train_data['target'].value_counts()\n",
    "print(class_counts)\n",
    "total_count = len(train_data)\n",
    "print(total_count)\n",
    "priors = {cls: (count + 1) / (total_count + len(class_counts)) for cls, count in class_counts.items()}\n",
    "print(priors)"
   ]
  },
  {
   "cell_type": "code",
   "execution_count": 17,
   "id": "e8310e88-26cd-4bda-8141-47c843ad74c9",
   "metadata": {},
   "outputs": [],
   "source": [
    "# Calculate likelihoods with Laplace smoothing\n",
    "def calculate_likelihoods(data):\n",
    "    likelihoods = {}\n",
    "    for feature in data.columns[:-1]:  # Exclude target column\n",
    "        likelihoods[feature] = {}\n",
    "        for value in data[feature].unique():\n",
    "            likelihoods[feature][value] = {}\n",
    "            for cls in class_counts.index:\n",
    "                # Count occurrences with Laplace smoothing\n",
    "                count = len(data[(data[feature] == value) & (data['target'] == cls)]) + 1\n",
    "                likelihoods[feature][value][cls] = count / (class_counts[cls] + len(data[feature].unique()))\n",
    "    return likelihoods"
   ]
  },
  {
   "cell_type": "code",
   "execution_count": 21,
   "id": "71b6e247-3a49-4e90-b349-5dd158337f29",
   "metadata": {},
   "outputs": [],
   "source": [
    "likelihoods = calculate_likelihoods(train_data)\n",
    "# print(likelihoods)"
   ]
  },
  {
   "cell_type": "code",
   "execution_count": 22,
   "id": "3e80a65a-5a09-4b1b-b53a-e1daa27676bd",
   "metadata": {},
   "outputs": [],
   "source": [
    "# with open('probabilities.txt', 'w') as f:\n",
    "#     f.write(f\"Priors:\\n{priors}\\n\")\n",
    "#     f.write(f\"Likelihoods:\\n{likelihoods}\\n\")"
   ]
  },
  {
   "cell_type": "code",
   "execution_count": null,
   "id": "c44ff988-538a-48e2-89cb-1445ca10daa5",
   "metadata": {},
   "outputs": [],
   "source": []
  }
 ],
 "metadata": {
  "kernelspec": {
   "display_name": "Python 3 (ipykernel)",
   "language": "python",
   "name": "python3"
  },
  "language_info": {
   "codemirror_mode": {
    "name": "ipython",
    "version": 3
   },
   "file_extension": ".py",
   "mimetype": "text/x-python",
   "name": "python",
   "nbconvert_exporter": "python",
   "pygments_lexer": "ipython3",
   "version": "3.12.0"
  }
 },
 "nbformat": 4,
 "nbformat_minor": 5
}
